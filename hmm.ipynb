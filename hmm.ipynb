{
 "cells": [
  {
   "cell_type": "markdown",
   "metadata": {},
   "source": [
    "# Hidden Markov Models"
   ]
  },
  {
   "cell_type": "markdown",
   "metadata": {},
   "source": [
    "## Configuration"
   ]
  },
  {
   "cell_type": "code",
   "execution_count": 1,
   "metadata": {},
   "outputs": [],
   "source": [
    "%matplotlib inline\n",
    "import numpy as np\n",
    "import matplotlib\n",
    "import matplotlib.pyplot as plt\n",
    "import math\n",
    "\n",
    "MODEL_NAME = 'test.hmm'\n",
    "SEQUENCES_NAME = 'sequences.txt'\n",
    "KEYS = ['hidden', 'observables', 'pi', 'transitions', 'emissions']"
   ]
  },
  {
   "cell_type": "markdown",
   "metadata": {},
   "source": [
    "## Model Parser"
   ]
  },
  {
   "cell_type": "code",
   "execution_count": 2,
   "metadata": {},
   "outputs": [],
   "source": [
    "def split_line(l, t=str, c=' '):\n",
    "    \"\"\"Returns an array of values from a line\"\"\"\n",
    "    return  [ t(x) for x in l.split(c) ]\n",
    "\n",
    "\n",
    "def dict_with_indexes(l):\n",
    "    \"\"\"Returns a dictionary with key:index from an array\"\"\"\n",
    "    return { l[i]: i for i in range(len(l)) }\n",
    "\n",
    "\n",
    "def load_model(filename):\n",
    "    \"\"\"Loads the data and returns a dictionary with some kind of helpful structure\"\"\"\n",
    "    data = {}\n",
    "    # just fetch the lines which are not empty\n",
    "    with open(filename, 'r') as f:\n",
    "        EOF = False\n",
    "        while not EOF:\n",
    "            l = f.readline().strip('\\n')\n",
    "            if l == KEYS[0]: #'hidden'\n",
    "                # one line\n",
    "                # format {'i':0, ...}\n",
    "                data[KEYS[0]] = dict_with_indexes( split_line(f.readline().strip('\\n')) ) \n",
    "            elif l == KEYS[1]: #'observables'\n",
    "                # one line\n",
    "                # format {'a':0,...}\n",
    "                data[KEYS[1]] = dict_with_indexes( split_line(f.readline().strip('\\n')) ) \n",
    "            elif l == KEYS[2]: #'pi'\n",
    "                # one line\n",
    "                # format [0.3, ...]\n",
    "                data[KEYS[2]] = split_line(f.readline().strip('\\n'), t=float)\n",
    "            elif l == KEYS[3]: #'transitions'\n",
    "                # multiple lines\n",
    "                #format [[0.2,..], [...]]\n",
    "                data[KEYS[3]] = [ split_line(f.readline().strip('\\n'), t=float) for x in range(len(data[KEYS[0]].keys())) ] \n",
    "            elif l == KEYS[4]: #'emissions'\n",
    "                # multiple lines\n",
    "                #format [[0.2,..], [...]]\n",
    "                data[KEYS[4]] = [ split_line(f.readline().strip('\\n'), t=float) for x in range(len(data[KEYS[0]].keys())) ]    \n",
    "                # this is supposed to be the last line of our data\n",
    "                EOF = True      \n",
    "    return data\n",
    "\n",
    "\n",
    "def show_model(data):\n",
    "    \"\"\"Prints the data\"\"\"\n",
    "    # print the hidden states\n",
    "    for key in KEYS:\n",
    "        print key\n",
    "        print data[key]"
   ]
  },
  {
   "cell_type": "markdown",
   "metadata": {},
   "source": [
    "## Sequences Parser"
   ]
  },
  {
   "cell_type": "code",
   "execution_count": 3,
   "metadata": {},
   "outputs": [],
   "source": [
    "def load_sequences(filename):\n",
    "    data = {}\n",
    "    # just fetch the lines which are not empty\n",
    "    with open(filename, 'r') as f:\n",
    "        lines = f.readlines()\n",
    "        x = 0\n",
    "        while x < len(lines):\n",
    "            name = lines[x].strip('\\n').lstrip('>')\n",
    "            x += 1\n",
    "            emissions = lines[x].strip('\\n').lstrip(' ')\n",
    "            x += 1\n",
    "            hiddens = lines[x].strip('\\n').lstrip('# ')\n",
    "            x += 2\n",
    "            data[name] = dict(X=emissions, Z=hiddens, name=name)\n",
    "    return data"
   ]
  },
  {
   "cell_type": "markdown",
   "metadata": {},
   "source": [
    "## Loading model and sequences"
   ]
  },
  {
   "cell_type": "code",
   "execution_count": 4,
   "metadata": {},
   "outputs": [],
   "source": [
    "model = load_model(MODEL_NAME)\n",
    "sequences = load_sequences(SEQUENCES_NAME)"
   ]
  },
  {
   "cell_type": "code",
   "execution_count": 5,
   "metadata": {},
   "outputs": [],
   "source": [
    "# useful functions\n",
    "def transition(a, b):\n",
    "    \"\"\"a and b are indexes of hidden states\"\"\"\n",
    "    return model['transitions'][a][b]\n",
    "\n",
    "\n",
    "def emission(a, b):\n",
    "    \"\"\"a is an index of a hidden state, b is an index of an emission\"\"\"\n",
    "    return model['emissions'][a][b]"
   ]
  },
  {
   "cell_type": "markdown",
   "metadata": {},
   "source": [
    "## computing the likelihood of the markov hidden model"
   ]
  },
  {
   "cell_type": "code",
   "execution_count": 19,
   "metadata": {},
   "outputs": [],
   "source": [
    "# compute\n",
    "def compute_hmm(model, sequence):\n",
    "\n",
    "    input_states = sequence['Z']\n",
    "    input_emissions = sequence['X']\n",
    "    states_indexes = model['hidden']\n",
    "    observables_indexes = model['observables']\n",
    "    # the first state\n",
    "    i = 0\n",
    "    pr = 0.0\n",
    "    PI = math.log( model['pi'][ states_indexes[input_states[i]] ] )\n",
    "    S = PI\n",
    "    # first hidden and emission nodes\n",
    "    S += math.log( emission(states_indexes[input_states[i]], observables_indexes[input_emissions[i]]) )\n",
    "    for i in range(1, len(input_states)):\n",
    "        S += math.log( transition(states_indexes[input_states[i - 1]], states_indexes[input_states[i]]) )\n",
    "        S += math.log( emission(states_indexes[input_states[i]], observables_indexes[input_emissions[i]]) )\n",
    "        \n",
    "    return (sequence['name'], S)\n",
    "        \n",
    "        \n",
    "results = {}\n",
    "for key in sequences.keys():\n",
    "    results[key] =  compute_hmm(model, sequences[key])[1]"
   ]
  },
  {
   "cell_type": "markdown",
   "metadata": {},
   "source": [
    "## Data plots"
   ]
  },
  {
   "cell_type": "code",
   "execution_count": 15,
   "metadata": {},
   "outputs": [],
   "source": [
    "# teacher results\n",
    "t_results = {\n",
    "    'FTSH_ECOLI':-1885.4977658,'GAA1_CHICK':-1354.42230075,'GAA4_BOVIN': -1648.49027393,'GAB1_HUMAN':  -1410.78488617,\n",
    "    'GAB_LYMST': -1486.03455155,'GAC1_RAT': -1400.15967778,'GAD_MOUSE': -1337.21101494,'GAR1_HUMAN':  -1411.53682112,\n",
    "    'GAR2_HUMAN': -1388.92141857,'GRA1_HUMAN': -1348.3724723,'GRB_RAT': -1476.92146295,'HOXN_ALCEU':  -1047.95694027,\n",
    "    'IMMA_CITFR':  -521.400433575,'KDGL_ECOLI':  -363.533530068,'RFBP_SALTY':  -1422.86536912,'RIB1_RAT':  -1758.94267129,\n",
    "}\n",
    "\n",
    "m_results = {\n",
    "    'FTSH_ECOLI': -2199.316136837176,'GAA1_CHICK': -1647.7364810332324,'GAA4_BOVIN': -1988.1239216046022,\n",
    "    'GAB1_HUMAN':  -1704.564227952754,'GAB_LYMST': -1790.5026831331786,'GAC1_RAT': -1683.6582081866618,\n",
    "    'GAD_MOUSE': -1621.574783562823,'GAR1_HUMAN':  -1711.2157808677623,'GAR2_HUMAN': -1679.6546385618474,\n",
    "    'GRA1_HUMAN': -1625.9145151618247,'GRB_RAT': -1786.5290935800676,'HOXN_ALCEU':  -1256.165560233634,\n",
    "    'IMMA_CITFR':  -641.282361032329,'KDGL_ECOLI':  -356.3995964985915,'RFBP_SALTY':  -1695.117962426908,\n",
    "    'RIB1_RAT':  -2185.5638351566477,\n",
    "}"
   ]
  },
  {
   "cell_type": "code",
   "execution_count": 12,
   "metadata": {},
   "outputs": [
    {
     "data": {
      "image/png": "[encoded data removed]"
     },
     "output_type": "display_data",
     "metadata": {}
    }
   ],
   "source": [
    "xAxis = [ x for x in results.keys()]\n",
    "x1 = np.arange(len(results.keys()))\n",
    "y1 = [ abs(results[x]) for x in xAxis ]\n",
    "y2 = [ abs(t_results[x])  for x in xAxis ]\n",
    "\n",
    "\n",
    "width = 0.35\n",
    "fig = plt.figure(figsize=(25, 8), dpi=200)\n",
    "ax = fig.add_subplot(111)\n",
    "rect1 = ax.bar(x1, y1, width, color='g')\n",
    "rect2 = ax.bar(x1 + width, y2, width, color='b')\n",
    "\n",
    "\n",
    "ax.set_xticks(x1+width)\n",
    "ax.set_ylabel('abs( Log(P(x,z)) )')\n",
    "ax.set_title('Likelihoods comparison with teacher values')\n",
    "ax.set_xticklabels(xAxis)\n",
    "\n",
    "ax.legend((rect1[0], rect2[0]), ('Results', 'Teacher results'))\n",
    "\n",
    "def autolabel(rects):\n",
    "    for rect in rects:\n",
    "        h = rect.get_height()\n",
    "        ax.text(rect.get_x()+rect.get_width()/2., 1.05*h, '%d'%int(h),\n",
    "                ha='center', va='bottom')\n",
    "\n",
    "autolabel(rect1)\n",
    "autolabel(rect2)\n",
    "\n",
    "plt.grid(True)\n",
    "plt.show()"
   ]
  },
  {
   "cell_type": "code",
   "execution_count": 20,
   "metadata": {},
   "outputs": [
    {
     "data": {
      "text/plain": [
       "{'FTSH_ECOLI': -1885.4977657957534,\n",
       " 'GAA1_CHICK': -1354.4223007486369,\n",
       " 'GAA4_BOVIN': -1648.490273934017,\n",
       " 'GAB1_HUMAN': -1410.7848861687885,\n",
       " 'GAB_LYMST': -1486.0345515495878,\n",
       " 'GAC1_RAT': -1400.159677776142,\n",
       " 'GAD_MOUSE': -1337.2110149427608,\n",
       " 'GAR1_HUMAN': -1411.5368211191098,\n",
       " 'GAR2_HUMAN': -1388.9214185657202,\n",
       " 'GRA1_HUMAN': -1348.3724723014802,\n",
       " 'GRB_RAT': -1476.9214629535718,\n",
       " 'HOXN_ALCEU': -1047.9569402708287,\n",
       " 'IMMA_CITFR': -521.4004335750133,\n",
       " 'KDGL_ECOLI': -363.53353006844713,\n",
       " 'RFBP_SALTY': -1422.8653691183783,\n",
       " 'RIB1_RAT': -1758.942671287108}"
      ]
     },
     "execution_count": 20,
     "output_type": "execute_result",
     "metadata": {}
    }
   ],
   "source": [
    "results"
   ]
  },
  {
   "cell_type": "code",
   "execution_count": null,
   "metadata": {},
   "outputs": [],
   "source": [
    ""
   ]
  }
 ],
 "metadata": {
  "kernelspec": {
   "display_name": "Python 2",
   "language": "python",
   "name": "python2"
  },
  "language_info": {
   "codemirror_mode": {
    "name": "ipython",
    "version": 2.0
   },
   "file_extension": ".py",
   "mimetype": "text/x-python",
   "name": "python",
   "nbconvert_exporter": "python",
   "pygments_lexer": "ipython2",
   "version": "2.7.11"
  }
 },
 "nbformat": 4,
 "nbformat_minor": 0
}